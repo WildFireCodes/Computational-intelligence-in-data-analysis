{
 "cells": [
  {
   "cell_type": "code",
   "execution_count": 1,
   "source": [
    "import matplotlib.pyplot as plt\n",
    "import numpy as np\n",
    "import pso_from_scratch as pfs\n",
    "import importlib\n"
   ],
   "outputs": [],
   "metadata": {}
  },
  {
   "cell_type": "code",
   "execution_count": 2,
   "source": [
    "importlib.reload(pfs)"
   ],
   "outputs": [
    {
     "output_type": "execute_result",
     "data": {
      "text/plain": [
       "<module 'pso_from_scratch' from '/home/wildfire/Computational-intelligence-in-data-analysis/Lab1/pso_from_scratch.py'>"
      ]
     },
     "metadata": {},
     "execution_count": 2
    }
   ],
   "metadata": {}
  },
  {
   "cell_type": "code",
   "execution_count": 3,
   "source": [
    "def Rozenbrock(x):\n",
    "    '''Test function for PSO - banana function Rozenbrock'''\n",
    "\n",
    "    return (1 - x[0])**2 + 100*(x[1] - x[0]**2)**2\n",
    "    "
   ],
   "outputs": [],
   "metadata": {}
  },
  {
   "cell_type": "code",
   "execution_count": 4,
   "source": [
    "test = pfs.pso(spawn_x = -10, spawn_y = 10)\n",
    "print(test.social_tendency)"
   ],
   "outputs": [
    {
     "output_type": "stream",
     "name": "stdout",
     "text": [
      "None\n"
     ]
    }
   ],
   "metadata": {}
  },
  {
   "cell_type": "code",
   "execution_count": 5,
   "source": [
    "spawn = test.create_population(2, 16)\n",
    "spawn"
   ],
   "outputs": [
    {
     "output_type": "execute_result",
     "data": {
      "text/plain": [
       "array([[ 4.82448167, -3.98689689],\n",
       "       [ 6.75414433,  7.18399523],\n",
       "       [-9.64659162, -7.68834417],\n",
       "       [ 3.14489856, -7.54569103],\n",
       "       [-8.304369  , -2.59579958],\n",
       "       [-5.44668973, -4.70405739],\n",
       "       [ 9.4723287 ,  4.8944762 ],\n",
       "       [-0.26354358, -6.72377359],\n",
       "       [-6.50763946,  0.6060411 ],\n",
       "       [ 7.19300118,  3.66730768],\n",
       "       [ 0.26356884,  8.41998891],\n",
       "       [-9.38884898,  1.64570932],\n",
       "       [-3.18516249,  5.67848765],\n",
       "       [-8.68775568, -7.42202101],\n",
       "       [ 1.52224595,  9.88904476],\n",
       "       [ 0.93749428, -4.65517985]])"
      ]
     },
     "metadata": {},
     "execution_count": 5
    }
   ],
   "metadata": {}
  },
  {
   "cell_type": "code",
   "execution_count": 6,
   "source": [
    "best_pop, best_val = test.pso_engine(Rozenbrock, 2, 16, 600)"
   ],
   "outputs": [],
   "metadata": {}
  },
  {
   "cell_type": "code",
   "execution_count": 7,
   "source": [
    "best_pop"
   ],
   "outputs": [
    {
     "output_type": "execute_result",
     "data": {
      "text/plain": [
       "array([0.99999612, 0.99999247])"
      ]
     },
     "metadata": {},
     "execution_count": 7
    }
   ],
   "metadata": {}
  },
  {
   "cell_type": "code",
   "execution_count": 8,
   "source": [
    "best_val"
   ],
   "outputs": [
    {
     "output_type": "execute_result",
     "data": {
      "text/plain": [
       "1.997473688560842e-11"
      ]
     },
     "metadata": {},
     "execution_count": 8
    }
   ],
   "metadata": {}
  },
  {
   "cell_type": "code",
   "execution_count": 9,
   "source": [
    "x = np.array([[ -2.14825586,  -0.8661696 ],\n",
    "       [ -0.0554764 , -12.11070838],\n",
    "       [  0.2584984 ,   0.17145921],\n",
    "       [  0.        ,   0.        ],\n",
    "       [  0.36661794,  -8.86352358],\n",
    "       [  1.13991162,  -0.08297975],\n",
    "       [ -8.08288526,   0.13305724],\n",
    "       [  2.62894195,  -1.74992444],\n",
    "       [ 11.37185222,  -5.61157875],\n",
    "       [  0.42912651,  -6.67058097],\n",
    "       [ -3.58657577, -14.47113024],\n",
    "       [  2.88197048,  -0.92660694],\n",
    "       [  8.08584674,   2.70748008],\n",
    "       [  9.04856139,  -5.14627017],\n",
    "       [  1.79764147,   3.04536995],\n",
    "       [ -0.58336598,  -0.45288752]])\n",
    "x[4]"
   ],
   "outputs": [
    {
     "output_type": "execute_result",
     "data": {
      "text/plain": [
       "array([ 0.36661794, -8.86352358])"
      ]
     },
     "metadata": {},
     "execution_count": 9
    }
   ],
   "metadata": {}
  }
 ],
 "metadata": {
  "orig_nbformat": 4,
  "language_info": {
   "name": "python",
   "version": "3.9.7",
   "mimetype": "text/x-python",
   "codemirror_mode": {
    "name": "ipython",
    "version": 3
   },
   "pygments_lexer": "ipython3",
   "nbconvert_exporter": "python",
   "file_extension": ".py"
  },
  "kernelspec": {
   "name": "python3",
   "display_name": "Python 3.9.7 64-bit"
  },
  "interpreter": {
   "hash": "916dbcbb3f70747c44a77c7bcd40155683ae19c65e1c03b4aa3499c5328201f1"
  }
 },
 "nbformat": 4,
 "nbformat_minor": 2
}