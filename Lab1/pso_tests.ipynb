{
 "cells": [
  {
   "cell_type": "code",
   "execution_count": 40,
   "source": [
    "import numpy as np\n",
    "import pso_from_scratch as pfs\n",
    "import importlib"
   ],
   "outputs": [],
   "metadata": {}
  },
  {
   "cell_type": "code",
   "execution_count": 41,
   "source": [
    "importlib.reload(pfs)"
   ],
   "outputs": [
    {
     "output_type": "execute_result",
     "data": {
      "text/plain": [
       "<module 'pso_from_scratch' from '/home/wildfire/Computational-intelligence-in-data-analysis/Lab1/pso_from_scratch.py'>"
      ]
     },
     "metadata": {},
     "execution_count": 41
    }
   ],
   "metadata": {}
  },
  {
   "cell_type": "markdown",
   "source": [
    "<center><h1>1. Rozenbrock function.</h1></center>"
   ],
   "metadata": {}
  },
  {
   "cell_type": "code",
   "execution_count": 42,
   "source": [
    "def Rozenbrock(x):\n",
    "    '''Test function for PSO - banana function Rozenbrock'''\n",
    "\n",
    "    return (1 - x[0])**2 + 100*(x[1] - x[0]**2)**2\n",
    "    "
   ],
   "outputs": [],
   "metadata": {}
  },
  {
   "cell_type": "markdown",
   "source": [
    "<center><h1>2. PSO using bare bones.</h1></center>"
   ],
   "metadata": {}
  },
  {
   "cell_type": "code",
   "execution_count": 43,
   "source": [
    "pso_bare_bones = pfs.ParticleSwarmOptimization([-10, 10])"
   ],
   "outputs": [],
   "metadata": {}
  },
  {
   "cell_type": "code",
   "execution_count": 44,
   "source": [
    "best_pop, best_val, i = pso_bare_bones.pso_engine(Rozenbrock, 2, 16, 300, option = 'bare_bones')"
   ],
   "outputs": [],
   "metadata": {}
  },
  {
   "cell_type": "markdown",
   "source": [
    "<center><h2>2.1 Best bird, best value and iteration.</h2></center>"
   ],
   "metadata": {}
  },
  {
   "cell_type": "code",
   "execution_count": 45,
   "source": [
    "print('Best bird coords: ' + repr(best_pop) + ' with value: ' + repr(best_val) + ' found after ' + repr(i) + ' iterations.')"
   ],
   "outputs": [
    {
     "output_type": "stream",
     "name": "stdout",
     "text": [
      "Best bird coords: array([1.00128347, 1.00254031]) with value: 1.7273031602171583e-06 found after 299 iterations.\n"
     ]
    }
   ],
   "metadata": {}
  },
  {
   "cell_type": "markdown",
   "source": [
    "<center><h1>3. PSO using canonical variant.</h1></center>"
   ],
   "metadata": {}
  },
  {
   "cell_type": "code",
   "execution_count": 46,
   "source": [
    "best_pop, best_val, i = pso_bare_bones.pso_engine(Rozenbrock, 2, 16, 300, option = 'canonical_pso')"
   ],
   "outputs": [],
   "metadata": {}
  },
  {
   "cell_type": "markdown",
   "source": [
    "<center><h2>3.1 Best bird, best value and iteration.</h2></center>"
   ],
   "metadata": {}
  },
  {
   "cell_type": "code",
   "execution_count": 47,
   "source": [
    "print('Best bird coords: ' + repr(best_pop) + ' with value: ' + repr(best_val) + ' found after ' + repr(i) + ' iterations.')"
   ],
   "outputs": [
    {
     "output_type": "stream",
     "name": "stdout",
     "text": [
      "Best bird coords: array([1., 1.]) with value: 5.039588313589579e-22 found after 299 iterations.\n"
     ]
    }
   ],
   "metadata": {}
  }
 ],
 "metadata": {
  "orig_nbformat": 4,
  "language_info": {
   "name": "python",
   "version": "3.9.7",
   "mimetype": "text/x-python",
   "codemirror_mode": {
    "name": "ipython",
    "version": 3
   },
   "pygments_lexer": "ipython3",
   "nbconvert_exporter": "python",
   "file_extension": ".py"
  },
  "kernelspec": {
   "name": "python3",
   "display_name": "Python 3.9.7 64-bit"
  },
  "interpreter": {
   "hash": "916dbcbb3f70747c44a77c7bcd40155683ae19c65e1c03b4aa3499c5328201f1"
  }
 },
 "nbformat": 4,
 "nbformat_minor": 2
}